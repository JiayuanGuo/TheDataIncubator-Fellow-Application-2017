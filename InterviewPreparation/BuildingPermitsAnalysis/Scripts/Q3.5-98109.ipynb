{
 "cells": [
  {
   "cell_type": "code",
   "execution_count": 1,
   "metadata": {
    "collapsed": true
   },
   "outputs": [],
   "source": [
    "import pandas as pd\n",
    "import numpy as np\n",
    "import matplotlib.pyplot as plt\n",
    "import scipy.stats as stats\n",
    "from scipy import stats\n",
    "\n",
    "from sklearn.metrics import mean_squared_error"
   ]
  },
  {
   "cell_type": "code",
   "execution_count": 2,
   "metadata": {
    "collapsed": true
   },
   "outputs": [],
   "source": [
    "bp = pd.read_csv('bp.csv')"
   ]
  },
  {
   "cell_type": "code",
   "execution_count": 3,
   "metadata": {
    "collapsed": true
   },
   "outputs": [],
   "source": [
    "bp_98109 = bp[bp['Zipcode'] == '98109'].reset_index(drop = True)\n",
    "bp_98109['Category'].replace(['SINGLE FAMILY / DUPLEX', 'MULTIFAMILY'], 'HOUSING',inplace = True)\n",
    "bp_98109_housing = bp_98109[bp_98109['Category'] == 'HOUSING'].reset_index(drop = True)\n",
    "bp_98109_com = bp_98109[bp_98109['Category'] == 'COMMERCIAL'].reset_index(drop = True)\n",
    "df_98109 = pd.DataFrame()"
   ]
  },
  {
   "cell_type": "code",
   "execution_count": 4,
   "metadata": {
    "collapsed": true
   },
   "outputs": [],
   "source": [
    "#2014-2017 housing count\n",
    "count_housing_list = []\n",
    "count_com_list = []\n",
    "year_month = []\n",
    "\n",
    "for j in [2014,2015,2016,2017]:\n",
    "    for i in range(12):\n",
    "        count_housing = len(bp_98109_housing[(bp_98109_housing['Expected Construct Year'] == j) & \n",
    "                     (bp_98109_housing['Expected Construct Month'] == i+1)])\n",
    "        count_com = len(bp_98109_com[(bp_98109_com['Expected Construct Year'] == j) & \n",
    "                     (bp_98109_com['Expected Construct Month'] == i+1)])\n",
    "        date = str(j) + '-' + str(i+1)\n",
    "        count_housing_list.append(count_housing)\n",
    "        count_com_list.append(count_com)\n",
    "        year_month.append(date)\n",
    "        \n",
    "df_98109['COMMERCIAL'] = count_com_list\n",
    "df_98109['HOUSING'] = count_housing_list\n",
    "df_98109['Year&Month'] = year_month"
   ]
  },
  {
   "cell_type": "code",
   "execution_count": 5,
   "metadata": {},
   "outputs": [
    {
     "name": "stdout",
     "output_type": "stream",
     "text": [
      "Ttest_indResult(statistic=-0.036597302559268359, pvalue=0.97088370218874087)\n"
     ]
    }
   ],
   "source": [
    "#sum them for 9 months\n",
    "HOUSING_sum_list = []\n",
    "COM_sum_list = []\n",
    "for i in range(len(df_98109)):\n",
    "    HOUSING_sum = sum(df_98109['HOUSING'][i:i + 6])\n",
    "    HOUSING_sum_list.append(HOUSING_sum)\n",
    "    COM_sum = sum(df_98109['COMMERCIAL'][i:i + 6])\n",
    "    COM_sum_list.append(COM_sum)\n",
    "df_98109['HOUSING_sum'] = HOUSING_sum_list\n",
    "df_98109['COM_sum'] = COM_sum_list\n",
    "\n",
    "#df_98109.drop(df_98109.index[41:],inplace = True)\n",
    "\n",
    "print(stats.ttest_ind(df_98109['HOUSING_sum'],df_98109['COM_sum']))"
   ]
  },
  {
   "cell_type": "code",
   "execution_count": null,
   "metadata": {
    "collapsed": true
   },
   "outputs": [],
   "source": []
  },
  {
   "cell_type": "code",
   "execution_count": null,
   "metadata": {
    "collapsed": true
   },
   "outputs": [],
   "source": []
  },
  {
   "cell_type": "code",
   "execution_count": null,
   "metadata": {
    "collapsed": true
   },
   "outputs": [],
   "source": []
  },
  {
   "cell_type": "code",
   "execution_count": null,
   "metadata": {
    "collapsed": true
   },
   "outputs": [],
   "source": []
  },
  {
   "cell_type": "code",
   "execution_count": null,
   "metadata": {
    "collapsed": true
   },
   "outputs": [],
   "source": []
  },
  {
   "cell_type": "code",
   "execution_count": 6,
   "metadata": {
    "collapsed": true
   },
   "outputs": [],
   "source": [
    "x = df_98109['HOUSING_sum'].values.reshape(48,1)\n",
    "y = df_98109['COM_sum'].values"
   ]
  },
  {
   "cell_type": "code",
   "execution_count": 7,
   "metadata": {
    "scrolled": true
   },
   "outputs": [
    {
     "data": {
      "image/png": "[encoded data removed]",
      "text/plain": [
       "<matplotlib.figure.Figure at 0x115221470>"
      ]
     },
     "metadata": {},
     "output_type": "display_data"
    }
   ],
   "source": [
    "plt.scatter(x,y,lw='3',label='actual')\n",
    "#plt.plot(x,y_pred,label='fit')\n",
    "\n",
    "plt.title(\"98109--Housing & Commercial in Six Months\",fontsize=15)\n",
    "plt.xlabel(\"Number of Housing Buildings\")\n",
    "plt.ylabel(\"Numbers of Commercial Buildings\")\n",
    "\n",
    "#plt.legend(loc='lower right')\n",
    "plt.savefig('Fig.98109-6months.png' , dpi=400) \n",
    "plt.show()"
   ]
  },
  {
   "cell_type": "code",
   "execution_count": null,
   "metadata": {
    "collapsed": true
   },
   "outputs": [],
   "source": [
    "r2_score(y, pred)  "
   ]
  }
 ],
 "metadata": {
  "kernelspec": {
   "display_name": "Python 3",
   "language": "python",
   "name": "python3"
  },
  "language_info": {
   "codemirror_mode": {
    "name": "ipython",
    "version": 3
   },
   "file_extension": ".py",
   "mimetype": "text/x-python",
   "name": "python",
   "nbconvert_exporter": "python",
   "pygments_lexer": "ipython3",
   "version": "3.6.1"
  }
 },
 "nbformat": 4,
 "nbformat_minor": 2
}
