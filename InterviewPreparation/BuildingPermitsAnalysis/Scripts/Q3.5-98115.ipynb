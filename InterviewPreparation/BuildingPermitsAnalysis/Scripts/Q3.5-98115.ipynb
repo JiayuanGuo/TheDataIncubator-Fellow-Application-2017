{
 "cells": [
  {
   "cell_type": "code",
   "execution_count": 1,
   "metadata": {
    "collapsed": true
   },
   "outputs": [],
   "source": [
    "import pandas as pd\n",
    "import numpy as np\n",
    "import matplotlib.pyplot as plt\n",
    "import scipy.stats as stats\n",
    "from scipy import stats\n",
    "from sklearn.metrics import mean_squared_error\n",
    "from sklearn import datasets, linear_model\n",
    "from sklearn.metrics import mean_squared_error\n",
    "from sklearn.metrics import r2_score\n",
    "from sklearn.model_selection import cross_val_score\n",
    "from sklearn.model_selection import cross_val_predict"
   ]
  },
  {
   "cell_type": "code",
   "execution_count": 2,
   "metadata": {
    "collapsed": true
   },
   "outputs": [],
   "source": [
    "bp = pd.read_csv('bp.csv')"
   ]
  },
  {
   "cell_type": "code",
   "execution_count": 3,
   "metadata": {
    "collapsed": true
   },
   "outputs": [],
   "source": [
    "bp_98115 = bp[bp['Zipcode'] == '98115'].reset_index(drop = True)\n",
    "bp_98115['Category'].replace(['SINGLE FAMILY / DUPLEX', 'MULTIFAMILY'], 'HOUSING',inplace = True)\n",
    "bp_98115_housing = bp_98115[bp_98115['Category'] == 'HOUSING'].reset_index(drop = True)\n",
    "bp_98115_com = bp_98115[bp_98115['Category'] == 'COMMERCIAL'].reset_index(drop = True)\n",
    "df_98115 = pd.DataFrame()"
   ]
  },
  {
   "cell_type": "code",
   "execution_count": 4,
   "metadata": {
    "collapsed": true
   },
   "outputs": [],
   "source": [
    "#2014-2017 housing count\n",
    "count_housing_list = []\n",
    "count_com_list = []\n",
    "year_month = []\n",
    "\n",
    "for j in [2014,2015,2016,2017,2018]:\n",
    "    for i in range(12):\n",
    "        count_housing = len(bp_98115_housing[(bp_98115_housing['Expected Construct Year'] == j) & \n",
    "                     (bp_98115_housing['Expected Construct Month'] == i+1)])\n",
    "        count_com = len(bp_98115_com[(bp_98115_com['Expected Construct Year'] == j) & \n",
    "                     (bp_98115_com['Expected Construct Month'] == i+1)])\n",
    "        date = str(j) + '-' + str(i+1)\n",
    "        count_housing_list.append(count_housing)\n",
    "        count_com_list.append(count_com)\n",
    "        year_month.append(date)\n",
    "        \n",
    "df_98115['COMMERCIAL'] = count_com_list\n",
    "df_98115['HOUSING'] = count_housing_list\n",
    "df_98115['Year&Month'] = year_month"
   ]
  },
  {
   "cell_type": "code",
   "execution_count": 5,
   "metadata": {},
   "outputs": [
    {
     "name": "stdout",
     "output_type": "stream",
     "text": [
      "Ttest_indResult(statistic=5.7919514402743397, pvalue=5.8803087656178264e-08)\n"
     ]
    }
   ],
   "source": [
    "#sum them for Twelve months\n",
    "HOUSING_sum_list = []\n",
    "COM_sum_list = []\n",
    "for i in range(len(df_98115)):\n",
    "    HOUSING_sum = sum(df_98115['HOUSING'][i:i + 6])\n",
    "    HOUSING_sum_list.append(HOUSING_sum)\n",
    "    COM_sum = sum(df_98115['COMMERCIAL'][i:i + 6])\n",
    "    COM_sum_list.append(COM_sum)\n",
    "df_98115['HOUSING_sum'] = HOUSING_sum_list\n",
    "df_98115['COM_sum'] = COM_sum_list\n",
    "\n",
    "#df_98115.drop(df_98115.index[41:],inplace = True)\n",
    "\n",
    "print(stats.ttest_ind(df_98115['HOUSING_sum'],df_98115['COM_sum']))"
   ]
  },
  {
   "cell_type": "code",
   "execution_count": null,
   "metadata": {
    "collapsed": true
   },
   "outputs": [],
   "source": [
    "#sum them for Twelve months\n",
    "HOUSING_sum_list = []\n",
    "COM_sum_list = []\n",
    "for i in range(len(df_98115)):\n",
    "    HOUSING_sum = sum(df_98115['HOUSING'][i:i + 12])\n",
    "    HOUSING_sum_list.append(HOUSING_sum)\n",
    "    COM_sum = sum(df_98115['COMMERCIAL'][i:i + 12])\n",
    "    COM_sum_list.append(COM_sum)\n",
    "df_98115['HOUSING_sum'] = HOUSING_sum_list\n",
    "df_98115['COM_sum'] = COM_sum_list\n",
    "\n",
    "df_98115.drop(df_98115.index[41:],inplace = True)\n",
    "print (mean_squared_error(df_98115['HOUSING_sum'], df_98115['COM_sum']))\n",
    "\n",
    "#x = range(len(df_98115))\n",
    "#plt.style.use('ggplot')\n",
    "plt.figure(figsize=(5,3))\n",
    "\n",
    "plt.scatter(df_98115['HOUSING_sum'],df_98115['COM_sum'])\n",
    "\n",
    "plt.title(\"98115--Housing & Commercial in Six Months\",fontsize=12)\n",
    "plt.xlabel(\"Number of Housing Buildings\")\n",
    "plt.ylabel(\"Number of Commercial Buildings\")\n",
    "\n",
    "plt.savefig('Fig.98115-SixMonths.png', dpi=400)\n",
    "plt.show()"
   ]
  },
  {
   "cell_type": "code",
   "execution_count": null,
   "metadata": {
    "collapsed": true
   },
   "outputs": [],
   "source": [
    "x = df_98115['HOUSING_sum'].values.reshape(41,1)\n",
    "y = df_98115['COM_sum'].values"
   ]
  },
  {
   "cell_type": "code",
   "execution_count": null,
   "metadata": {
    "collapsed": true
   },
   "outputs": [],
   "source": [
    "lasso  = LassoCV(alphas = np.logspace(-5, 5, 1000), cv=10) \n",
    "lasso.fit(x, y)\n",
    "best_alpha=lasso.alpha_\n",
    "lasso = Lasso(alpha=best_alpha)\n",
    "pred = cross_val_predict(lasso, x, y, cv = 10, n_jobs=-1)"
   ]
  },
  {
   "cell_type": "code",
   "execution_count": null,
   "metadata": {
    "collapsed": true
   },
   "outputs": [],
   "source": [
    "r2_score(y, pred) "
   ]
  },
  {
   "cell_type": "code",
   "execution_count": null,
   "metadata": {
    "collapsed": true
   },
   "outputs": [],
   "source": [
    "plt.figure(figsize=(5,3))\n",
    "\n",
    "plt.scatter(df_98115['HOUSING_sum'],df_98115['COM_sum'])\n",
    "plt.plot(x,pred,label='fit')\n",
    "\n",
    "plt.title(\"98115--Housing & Commercial in Six Months\",fontsize=12)\n",
    "plt.xlabel(\"Number of Housing Buildings\")\n",
    "plt.ylabel(\"Number of Commercial Buildings\")\n",
    "\n",
    "#plt.savefig('Fig.98115-SixMonths.png' , dpi=400)\n",
    "plt.show()"
   ]
  }
 ],
 "metadata": {
  "kernelspec": {
   "display_name": "Python 3",
   "language": "python",
   "name": "python3"
  },
  "language_info": {
   "codemirror_mode": {
    "name": "ipython",
    "version": 3
   },
   "file_extension": ".py",
   "mimetype": "text/x-python",
   "name": "python",
   "nbconvert_exporter": "python",
   "pygments_lexer": "ipython3",
   "version": "3.6.1"
  }
 },
 "nbformat": 4,
 "nbformat_minor": 2
}
