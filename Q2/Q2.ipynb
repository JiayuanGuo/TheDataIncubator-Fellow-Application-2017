{
 "cells": [
  {
   "cell_type": "code",
   "execution_count": 1,
   "metadata": {
    "collapsed": true
   },
   "outputs": [],
   "source": [
    "import pandas as pd\n",
    "import numpy as np\n",
    "import matplotlib.pyplot as plt\n",
    "import time\n",
    "from datetime import datetime"
   ]
  },
  {
   "cell_type": "code",
   "execution_count": 2,
   "metadata": {
    "collapsed": true
   },
   "outputs": [],
   "source": [
    "#read and concat the dataset of 2014 and 2015\n",
    "loan_2014 = pd.read_csv('LoanStats3c_2014.csv',header = 1, low_memory=False)\n",
    "loan_2015 = pd.read_csv('LoanStats3d_2015.csv',header = 1, low_memory=False)\n",
    "loan = pd.concat([loan_2014.iloc[:-2],loan_2015.iloc[:-2]]).reset_index(drop = True)"
   ]
  },
  {
   "cell_type": "markdown",
   "metadata": {},
   "source": [
    "### What is the median loan amount?"
   ]
  },
  {
   "cell_type": "code",
   "execution_count": 3,
   "metadata": {
    "collapsed": true
   },
   "outputs": [],
   "source": [
    "#1st calculate median  13750.0\n",
    "median_loan_amnt = np.median(loan['loan_amnt'])"
   ]
  },
  {
   "cell_type": "markdown",
   "metadata": {
    "collapsed": true
   },
   "source": [
    "### Each loan is categorized into a single purpose. What fraction of all loans are for the most common purpose?"
   ]
  },
  {
   "cell_type": "code",
   "execution_count": 4,
   "metadata": {},
   "outputs": [
    {
     "name": "stdout",
     "output_type": "stream",
     "text": [
      "['credit_card', 'debt_consolidation', 'car', 'home_improvement', 'house', 'other', 'medical', 'moving', 'major_purchase', 'vacation', 'small_business', 'renewable_energy', 'wedding', 'educational']\n",
      "8.359444856643677\n"
     ]
    }
   ],
   "source": [
    "#get purpose list\n",
    "start = time.time()\n",
    "\n",
    "purpose_list = []\n",
    "for i in range(len(loan)):\n",
    "    if loan['purpose'][i] not in purpose_list:\n",
    "        purpose_list.append(loan['purpose'][i])\n",
    "\n",
    "print(purpose_list)        \n",
    "\n",
    "end = time.time()\n",
    "run_time = end - start\n",
    "print(run_time)"
   ]
  },
  {
   "cell_type": "code",
   "execution_count": 5,
   "metadata": {},
   "outputs": [
    {
     "data": {
      "text/plain": [
       "{'car': 5298,\n",
       " 'credit_card': 157547,\n",
       " 'debt_consolidation': 393026,\n",
       " 'educational': 1,\n",
       " 'home_improvement': 38338,\n",
       " 'house': 2188,\n",
       " 'major_purchase': 11307,\n",
       " 'medical': 6269,\n",
       " 'moving': 3748,\n",
       " 'other': 29575,\n",
       " 'renewable_energy': 347,\n",
       " 'small_business': 5641,\n",
       " 'vacation': 3427,\n",
       " 'wedding': 12}"
      ]
     },
     "execution_count": 5,
     "metadata": {},
     "output_type": "execute_result"
    }
   ],
   "source": [
    "#get purpose counts\n",
    "purpose_count_dict = {}\n",
    "for i in purpose_list:\n",
    "    purpose_count = len(loan[loan['purpose'] == i])\n",
    "    purpose_count_dict['%s' % i] = purpose_count\n",
    "purpose_count_dict"
   ]
  },
  {
   "cell_type": "code",
   "execution_count": 6,
   "metadata": {},
   "outputs": [
    {
     "data": {
      "text/plain": [
       "0.5984644995462325"
      ]
     },
     "execution_count": 6,
     "metadata": {},
     "output_type": "execute_result"
    }
   ],
   "source": [
    "#calculate the fraction of the most common purpose\n",
    "frac_common_purpose = max(purpose_count_dict.values())/sum(purpose_count_dict.values())\n",
    "frac_common_purpose "
   ]
  },
  {
   "cell_type": "code",
   "execution_count": null,
   "metadata": {
    "collapsed": true
   },
   "outputs": [],
   "source": []
  },
  {
   "cell_type": "markdown",
   "metadata": {},
   "source": [
    "### Calculate the average interest rate across loans for each purpose. What is the ratio of minimum average rate to the maximum average rate? (The ratio should be less than 1.)"
   ]
  },
  {
   "cell_type": "code",
   "execution_count": 7,
   "metadata": {},
   "outputs": [
    {
     "data": {
      "text/plain": [
       "{'car': 12.310447338618346,\n",
       " 'credit_card': 11.33493395621624,\n",
       " 'debt_consolidation': 13.411349274602701,\n",
       " 'educational': 11.529999999999999,\n",
       " 'home_improvement': 13.051478689550837,\n",
       " 'house': 17.711393967093237,\n",
       " 'major_purchase': 12.911986380118512,\n",
       " 'medical': 14.544869995214547,\n",
       " 'moving': 16.113057630736392,\n",
       " 'other': 14.859365680473372,\n",
       " 'renewable_energy': 16.446138328530257,\n",
       " 'small_business': 17.275114341428829,\n",
       " 'vacation': 14.270250948351325,\n",
       " 'wedding': 15.846666666666669}"
      ]
     },
     "execution_count": 7,
     "metadata": {},
     "output_type": "execute_result"
    }
   ],
   "source": [
    "#calculate the average interest rate for each purpose\n",
    "avg_int_rate_dict = {}\n",
    "for j in purpose_list:\n",
    "    purpose_df = loan[loan['purpose'] == j]\n",
    "    int_rate_list = []\n",
    "    for i in purpose_df['int_rate']:\n",
    "        int_rate = float(i.split('%')[0].split()[0])\n",
    "        int_rate_list.append(int_rate)\n",
    "    avg_int_rate = np.mean(int_rate_list)\n",
    "    #avg_int_rate_list.append(avg_int_rate)\n",
    "    avg_int_rate_dict['%s' % j] = avg_int_rate\n",
    "avg_int_rate_dict"
   ]
  },
  {
   "cell_type": "code",
   "execution_count": 8,
   "metadata": {},
   "outputs": [
    {
     "data": {
      "text/plain": [
       "0.63997977670622108"
      ]
     },
     "execution_count": 8,
     "metadata": {},
     "output_type": "execute_result"
    }
   ],
   "source": [
    "#calculate the ratio of minimum average rate to the maximum average rate 0.63997977670622108\n",
    "min_int_rate = min(list(avg_int_rate_dict.values()))\n",
    "max_int_rate = max(list(avg_int_rate_dict.values()))\n",
    "ratio = min_int_rate/max_int_rate\n",
    "ratio"
   ]
  },
  {
   "cell_type": "code",
   "execution_count": null,
   "metadata": {
    "collapsed": true
   },
   "outputs": [],
   "source": []
  },
  {
   "cell_type": "markdown",
   "metadata": {},
   "source": [
    "### What is the difference in the fraction of the loans with a 36-month term between 2014 and 2015?"
   ]
  },
  {
   "cell_type": "code",
   "execution_count": 9,
   "metadata": {},
   "outputs": [
    {
     "data": {
      "text/plain": [
       "0.6899405421234228"
      ]
     },
     "execution_count": 9,
     "metadata": {},
     "output_type": "execute_result"
    }
   ],
   "source": [
    "#The fraction of the loans with a 36-month term in 2014\n",
    "term_36_2014 = 0\n",
    "for i in loan_2014.iloc[:-2]['term']:\n",
    "    if i.split()[0] == '36':\n",
    "        term_36_2014 +=1\n",
    "    \n",
    "frac_36_2014 = term_36_2014/len(loan_2014.iloc[:-2])\n",
    "frac_36_2014"
   ]
  },
  {
   "cell_type": "code",
   "execution_count": 10,
   "metadata": {},
   "outputs": [
    {
     "data": {
      "text/plain": [
       "0.6724682078865815"
      ]
     },
     "execution_count": 10,
     "metadata": {},
     "output_type": "execute_result"
    }
   ],
   "source": [
    "#he fraction of the loans with a 36-month term in 2015\n",
    "term_36_2015 = 0\n",
    "for i in loan_2015.iloc[:-2]['term']:\n",
    "    if i.split()[0] == '36':\n",
    "        term_36_2015 +=1\n",
    "    \n",
    "frac_36_2015 = term_36_2015/len(loan_2015.iloc[:-2])\n",
    "frac_36_2015"
   ]
  },
  {
   "cell_type": "code",
   "execution_count": 11,
   "metadata": {},
   "outputs": [
    {
     "data": {
      "text/plain": [
       "0.017472334236841358"
      ]
     },
     "execution_count": 11,
     "metadata": {},
     "output_type": "execute_result"
    }
   ],
   "source": [
    "#calculate the difference in the fraction of the loans with a 36-month term between 2014 and 2015?\n",
    "dif_frac = frac_36_2014 - frac_36_2015\n",
    "dif_frac"
   ]
  },
  {
   "cell_type": "code",
   "execution_count": null,
   "metadata": {
    "collapsed": true
   },
   "outputs": [],
   "source": []
  },
  {
   "cell_type": "markdown",
   "metadata": {},
   "source": [
    "### We will consider all loans that are not in the 'Fully Paid', 'Current', 'In Grace Period' statuses to be in default. Calculate the ratio of the time spent paying the loan, defined as the difference between the last payment date and the issue date, divided by the term of loan. What is the standard deviation of this ratio for all the loans in default?"
   ]
  },
  {
   "cell_type": "code",
   "execution_count": 12,
   "metadata": {
    "collapsed": true
   },
   "outputs": [],
   "source": [
    "#replace all loans that are not in the 'Fully Paid', 'Current', 'In Grace Period' statuses to be in default. \n",
    "non_default_status = ['Fully Paid','Current','In Grace Period']\n",
    "\n",
    "default_status = []\n",
    "for i in loan['loan_status']:\n",
    "    if i not in non_default_status and i not in default_status:\n",
    "        default_status.append(i)\n",
    "\n",
    "loan['loan_status'].replace(default_status, 'Default',inplace=True)"
   ]
  },
  {
   "cell_type": "code",
   "execution_count": 13,
   "metadata": {
    "collapsed": true
   },
   "outputs": [],
   "source": [
    "# the data of the last payment date is in column 'last_pymnt_d'\n",
    "# the data of the issue date is in column 'issue_d'\n",
    "# select default loan data and drop NaN in column 'last_pymnt_d'\n",
    "df_1 = loan[loan['loan_status'] == 'Default'][['last_pymnt_d','issue_d','term']].dropna().reset_index(drop=True)"
   ]
  },
  {
   "cell_type": "code",
   "execution_count": 14,
   "metadata": {
    "collapsed": true
   },
   "outputs": [],
   "source": [
    "#change date format from 'Aug-2016' to '08-2016'\n",
    "org_month_list = ['Jan','Feb','Mar','Apr','May','Jun','Jul','Aug','Sep','Oct','Nov','Dec']\n",
    "new_month_list = ['01','02','03','04','05','06','07','08','09','10','11','12']\n",
    "\n",
    "new_pymnt_dlist = []\n",
    "for i in df_1['last_pymnt_d']:\n",
    "    month_index = org_month_list.index(i.split('-')[0])\n",
    "    new_format_d = new_month_list[month_index] + '-' + i.split('-')[1]\n",
    "    new_pymnt_dlist.append(new_format_d)\n",
    "df_1['new_last_pymnt_d'] = new_pymnt_dlist\n",
    "\n",
    "new_issue_dlist = []\n",
    "for i in df_1['issue_d']:\n",
    "    month_index = org_month_list.index(i.split('-')[0])\n",
    "    new_format_d = new_month_list[month_index] + '-' + i.split('-')[1]\n",
    "    new_issue_dlist.append(new_format_d)\n",
    "df_1['new_issue_d'] = new_issue_dlist"
   ]
  },
  {
   "cell_type": "code",
   "execution_count": 15,
   "metadata": {},
   "outputs": [],
   "source": [
    "#calculate ratio\n",
    "ratio_list = []\n",
    "for i in range(len(df_1.iloc[:100])):\n",
    "    f = \"%m-%Y\"\n",
    "    datetime_1 = datetime.strptime(df_1['new_last_pymnt_d'][i], f)\n",
    "    datetime_2 = datetime.strptime(df_1['new_issue_d'][i],f)\n",
    "    delta = datetime_1 - datetime_2\n",
    "    delta_month = int(delta.days/30)\n",
    "    \n",
    "    loan_term = int(df_1['term'][i].split()[0])\n",
    "    ratio = delta_month/loan_term\n",
    "    \n",
    "    ratio_list.append(ratio)"
   ]
  },
  {
   "cell_type": "code",
   "execution_count": 16,
   "metadata": {
    "collapsed": true
   },
   "outputs": [],
   "source": [
    "#calculate standard deviation 0.19551464218477854\n",
    "std = np.std(ratio_list)"
   ]
  },
  {
   "cell_type": "code",
   "execution_count": null,
   "metadata": {
    "collapsed": true
   },
   "outputs": [],
   "source": []
  },
  {
   "cell_type": "markdown",
   "metadata": {},
   "source": [
    "### What is the Pearson correlation coefficient between the total rate of return, as figured from the total payments and the loan amount, and the interest rate? Consider only loans that have reached the end of their term."
   ]
  },
  {
   "cell_type": "code",
   "execution_count": null,
   "metadata": {
    "collapsed": true
   },
   "outputs": [],
   "source": []
  },
  {
   "cell_type": "code",
   "execution_count": null,
   "metadata": {
    "collapsed": true
   },
   "outputs": [],
   "source": []
  },
  {
   "cell_type": "markdown",
   "metadata": {},
   "source": [
    "### Let's find a loan purpose that shows up abnormally often in one state. Call A the probability of a loan going to a specific purpose nationwide. Call B the probability of a loan going to a specific purpose for each state. Out of all (state, purpose) pairs with at least 10 loans, what is the highest ratio of B / A (i.e. the most surprising)?"
   ]
  },
  {
   "cell_type": "code",
   "execution_count": 17,
   "metadata": {},
   "outputs": [
    {
     "data": {
      "text/plain": [
       "{'car': 0.008067315950079486,\n",
       " 'credit_card': 0.2398983439009386,\n",
       " 'debt_consolidation': 0.5984644995462325,\n",
       " 'educational': 1.5227096923517337e-06,\n",
       " 'home_improvement': 0.058377644185380766,\n",
       " 'house': 0.0033316888068655936,\n",
       " 'major_purchase': 0.017217278491421052,\n",
       " 'medical': 0.00954586706135302,\n",
       " 'moving': 0.005707115926934298,\n",
       " 'other': 0.04503413915130253,\n",
       " 'renewable_energy': 0.0005283802632460516,\n",
       " 'small_business': 0.00858960537455613,\n",
       " 'vacation': 0.005218326115689392,\n",
       " 'wedding': 1.8272516308220804e-05}"
      ]
     },
     "execution_count": 17,
     "metadata": {},
     "output_type": "execute_result"
    }
   ],
   "source": [
    "#get the probability of a loan going to a specific purpose nationwide\n",
    "purpose_prob_nation_dict = {}\n",
    "for i in purpose_count_dict:\n",
    "    purpose_prob_nation = purpose_count_dict[i]/sum(purpose_count_dict.values())\n",
    "    purpose_prob_nation_dict[i] = purpose_prob_nation\n",
    "purpose_prob_nation_dict"
   ]
  },
  {
   "cell_type": "code",
   "execution_count": 18,
   "metadata": {
    "scrolled": true
   },
   "outputs": [
    {
     "name": "stdout",
     "output_type": "stream",
     "text": [
      "['CA', 'VA', 'NJ', 'AZ', 'MO', 'WA', 'NY', 'MN', 'FL', 'MD', 'MI', 'IL', 'KY', 'IN', 'TX', 'CO', 'GA', 'OH', 'AL', 'NC', 'HI', 'NM', 'CT', 'AR', 'PA', 'LA', 'UT', 'MS', 'KS', 'MA', 'NH', 'SD', 'WV', 'TN', 'SC', 'AK', 'OR', 'OK', 'NV', 'VT', 'DC', 'RI', 'WI', 'MT', 'WY', 'DE', 'IA', 'ME', 'ID', 'NE', 'ND']\n",
      "8.538543224334717\n"
     ]
    }
   ],
   "source": [
    "#get states list\n",
    "start = time.time()\n",
    "\n",
    "states_list = []\n",
    "for i in range(len(loan)):\n",
    "    if loan['addr_state'][i] not in states_list:\n",
    "        states_list.append(loan['addr_state'][i])\n",
    "\n",
    "print(states_list)        \n",
    "\n",
    "end = time.time()\n",
    "run_time = end - start\n",
    "print(run_time)"
   ]
  },
  {
   "cell_type": "code",
   "execution_count": 19,
   "metadata": {},
   "outputs": [
    {
     "name": "stdout",
     "output_type": "stream",
     "text": [
      "5.918532133102417\n"
     ]
    }
   ],
   "source": [
    "#get the probability of a loan going to a specific purpose for each state\n",
    "start = time.time()\n",
    "\n",
    "df_state_prob = pd.DataFrame()\n",
    "pair_list = []\n",
    "statecount_list = []\n",
    "stateprob_list = []\n",
    "for i in states_list:\n",
    "    \n",
    "    \n",
    "    df_state = loan[loan['addr_state'] == i]\n",
    "\n",
    "    sub_pair_list = []\n",
    "    sub_statecount_list = []\n",
    "    sub_stateprob_list = []\n",
    "    for j in purpose_list:\n",
    "        pair = (i, '%s' %j)\n",
    "        sub_pair_list.append(pair)\n",
    "\n",
    "        statecount = len(df_state[df_state['purpose'] == j])\n",
    "        sub_statecount_list.append(statecount)\n",
    "        \n",
    "        stateprob = statecount/len(df_state)\n",
    "        sub_stateprob_list.append(stateprob)\n",
    "        \n",
    "    pair_list.extend(sub_pair_list)  \n",
    "    statecount_list.extend(sub_statecount_list)\n",
    "    stateprob_list.extend(sub_stateprob_list)\n",
    "    \n",
    "    \n",
    "df_state_prob['pair'] = pair_list\n",
    "df_state_prob['count'] = statecount_list\n",
    "df_state_prob['prob'] = stateprob_list\n",
    "\n",
    "end = time.time()\n",
    "run_time = end - start\n",
    "print(run_time)"
   ]
  },
  {
   "cell_type": "code",
   "execution_count": 21,
   "metadata": {},
   "outputs": [],
   "source": [
    "#select df with (state, purpose) pairs with at least 10 loans\n",
    "df_selected = df_state_prob[df_state_prob['count'] >= 10].reset_index(drop = True)"
   ]
  },
  {
   "cell_type": "code",
   "execution_count": 22,
   "metadata": {
    "collapsed": true
   },
   "outputs": [],
   "source": [
    "pair_prob_dict = dict(zip(df_selected['pair'], df_selected['prob']))"
   ]
  },
  {
   "cell_type": "code",
   "execution_count": 36,
   "metadata": {
    "scrolled": false
   },
   "outputs": [
    {
     "data": {
      "text/plain": [
       "3.2727693086839853"
      ]
     },
     "execution_count": 36,
     "metadata": {},
     "output_type": "execute_result"
    }
   ],
   "source": [
    "#calculate the highest ratio of B / A (i.e. the most surprising)\n",
    "max_ratio_list = []\n",
    "for j in purpose_list:\n",
    "    A = purpose_prob_nation_dict[j]\n",
    "    ratio_list = []\n",
    "    for i in states_list:\n",
    "        if (i,j) in list(df_selected['pair']):\n",
    "            B = pair_prob_dict[(i,j)]\n",
    "            ratio_BA = B/A\n",
    "            ratio_list.append(ratio_BA)\n",
    "    if ratio_list != []:\n",
    "        max_ratio = max(ratio_list)\n",
    "        max_ratio_list.append(max_ratio)\n",
    "highest_ratio = max(max_ratio_list)\n",
    "#highest_ratio 3.2727693086839853"
   ]
  },
  {
   "cell_type": "code",
   "execution_count": null,
   "metadata": {
    "collapsed": true
   },
   "outputs": [],
   "source": []
  },
  {
   "cell_type": "code",
   "execution_count": null,
   "metadata": {
    "collapsed": true
   },
   "outputs": [],
   "source": []
  },
  {
   "cell_type": "code",
   "execution_count": null,
   "metadata": {
    "collapsed": true
   },
   "outputs": [],
   "source": []
  },
  {
   "cell_type": "code",
   "execution_count": null,
   "metadata": {
    "collapsed": true
   },
   "outputs": [],
   "source": []
  },
  {
   "cell_type": "code",
   "execution_count": null,
   "metadata": {
    "collapsed": true
   },
   "outputs": [],
   "source": []
  }
 ],
 "metadata": {
  "kernelspec": {
   "display_name": "Python 3",
   "language": "python",
   "name": "python3"
  },
  "language_info": {
   "codemirror_mode": {
    "name": "ipython",
    "version": 3
   },
   "file_extension": ".py",
   "mimetype": "text/x-python",
   "name": "python",
   "nbconvert_exporter": "python",
   "pygments_lexer": "ipython3",
   "version": "3.6.1"
  }
 },
 "nbformat": 4,
 "nbformat_minor": 2
}
