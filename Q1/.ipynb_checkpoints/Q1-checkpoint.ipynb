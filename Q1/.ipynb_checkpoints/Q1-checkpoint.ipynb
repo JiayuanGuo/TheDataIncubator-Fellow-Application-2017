{
 "cells": [
  {
   "cell_type": "code",
   "execution_count": 1,
   "metadata": {
    "collapsed": true
   },
   "outputs": [],
   "source": [
    "import pandas as pd\n",
    "import numpy as np\n",
    "import time"
   ]
  },
  {
   "cell_type": "code",
   "execution_count": 2,
   "metadata": {
    "collapsed": true
   },
   "outputs": [],
   "source": [
    "init_status = [0,[0,0,0],1]"
   ]
  },
  {
   "cell_type": "code",
   "execution_count": 3,
   "metadata": {},
   "outputs": [],
   "source": [
    "def movement_choices(status):\n",
    "    \"\"\"\n",
    "    Make a list of all the possible movement for a specific status\n",
    "    \n",
    "    Parameters\n",
    "    ----------\n",
    "    status: list \n",
    "            containing the number of movements, and the location of every plate, possibility\n",
    "               \n",
    "    Returns\n",
    "    -------\n",
    "    movement_list : list\n",
    "                    containing a list of tuples indicating movement direction\n",
    "    \"\"\"\n",
    "    #for the specific status,the number of plates in stack 0,1,2\n",
    "    plates_num_0 = status[-2].count(0)\n",
    "    plates_num_1 = status[-2].count(1)\n",
    "    plates_num_2 = status[-2].count(2)\n",
    "\n",
    "    plate_num_list = [plates_num_0,plates_num_1,plates_num_2]\n",
    "    \n",
    "    movement_list = []\n",
    "    \n",
    "    #for stack 0\n",
    "    if 0 in status[-2]:# there are plates on stack 0\n",
    "        if plate_num_list[1] == 0:\n",
    "            movement_list.append((0,1))\n",
    "        if (1 in status[-2]) and (status[-2].index(0) < status[-2].index(1)):\n",
    "            movement_list.append((0,1))\n",
    "        \n",
    "    #for stack 1\n",
    "    if 1 in status[-2]:# there are plates on stack 1\n",
    "        if plate_num_list[0] == 0:\n",
    "            movement_list.append((1,0))\n",
    "        if (0 in status[-2]) and (status[-2].index(1) < status[-2].index(0)):\n",
    "            movement_list.append((1,0))\n",
    "        if plate_num_list[2] == 0:\n",
    "            movement_list.append((1,2))\n",
    "        if (2 in status[-2]) and (status[-2].index(1) < status[-2].index(2)):\n",
    "                movement_list.append((1,2))\n",
    "    \n",
    "    #for stack 2\n",
    "    if 2 in status[-2]:# there are plates on stack 2\n",
    "        if plate_num_list[1] == 0:\n",
    "            movement_list.append((2,1))\n",
    "        if (1 in status[-2]) and (status[-2].index(2) < status[-2].index(1)):\n",
    "            movement_list.append((2,1))\n",
    "\n",
    "    return movement_list"
   ]
  },
  {
   "cell_type": "code",
   "execution_count": null,
   "metadata": {
    "collapsed": true
   },
   "outputs": [],
   "source": [
    "def center_of_mass(status):\n",
    "    \"\"\"\n",
    "    calculate the center of mass for a specific status\n",
    "    \n",
    "    Parameters\n",
    "    ----------\n",
    "    status: list \n",
    "            containing the number of movements, and the location of every plate\n",
    "    \n",
    "    Returns\n",
    "    -------\n",
    "    center_of_mass : float\n",
    "                    containing a list of tuples indicating movement direction\n",
    "    \"\"\"\n",
    "    center_of_mass = (1 * status[-2][0] + 2 * status[-2][1] + 3 * status[-2][2])/(1 + 2 + 3)\n",
    "    return center_of_mass"
   ]
  },
  {
   "cell_type": "code",
   "execution_count": null,
   "metadata": {},
   "outputs": [],
   "source": [
    "center_of_mass([0,[1,1,2],0.5])"
   ]
  },
  {
   "cell_type": "code",
   "execution_count": 5,
   "metadata": {},
   "outputs": [
    {
     "name": "stdout",
     "output_type": "stream",
     "text": [
      "[[2, [0, 2, 2], 0.5], [2, [0, 2, 2], 0.5]]\n"
     ]
    }
   ],
   "source": [
    "# change status for one time \n",
    "# return status and prob\n",
    "\n",
    "status = [1,[1,1,2],0.5]\n",
    "\n",
    "time = status[0] + 1\n",
    "\n",
    "choice = movement_choices(status)\n",
    "prob = 1/len(choice)\n",
    "\n",
    "possible_status = []\n",
    "for i in choice:\n",
    "    move_start = i[0]\n",
    "    \n",
    "    stat = status\n",
    "    loc = stat[-2]\n",
    "    \n",
    "    plate = loc.index(move_start)\n",
    "    \n",
    "    loc[plate] = i[1]\n",
    "   \n",
    "    possible_status.append([time,loc,prob])\n",
    "\n",
    "print(possible_status)"
   ]
  },
  {
   "cell_type": "code",
   "execution_count": null,
   "metadata": {
    "collapsed": true
   },
   "outputs": [],
   "source": [
    "def change_status(status):\n",
    "    \"\"\"\n",
    "    Parameters\n",
    "    ----------\n",
    "    \"\"\""
   ]
  },
  {
   "cell_type": "code",
   "execution_count": null,
   "metadata": {
    "collapsed": true
   },
   "outputs": [],
   "source": []
  }
 ],
 "metadata": {
  "kernelspec": {
   "display_name": "Python 3",
   "language": "python",
   "name": "python3"
  },
  "language_info": {
   "codemirror_mode": {
    "name": "ipython",
    "version": 3
   },
   "file_extension": ".py",
   "mimetype": "text/x-python",
   "name": "python",
   "nbconvert_exporter": "python",
   "pygments_lexer": "ipython3",
   "version": "3.6.1"
  }
 },
 "nbformat": 4,
 "nbformat_minor": 2
}
