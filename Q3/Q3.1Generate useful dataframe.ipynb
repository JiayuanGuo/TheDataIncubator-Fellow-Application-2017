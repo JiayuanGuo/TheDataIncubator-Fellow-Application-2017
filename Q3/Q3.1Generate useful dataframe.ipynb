{
 "cells": [
  {
   "cell_type": "code",
   "execution_count": 1,
   "metadata": {
    "collapsed": true
   },
   "outputs": [],
   "source": [
    "import pandas as pd\n",
    "import numpy as np\n",
    "import matplotlib as plt\n",
    "import time\n",
    "from geopy.geocoders import Nominatim"
   ]
  },
  {
   "cell_type": "code",
   "execution_count": null,
   "metadata": {
    "collapsed": true,
    "scrolled": false
   },
   "outputs": [],
   "source": [
    "building_permit_raw = pd.read_csv('Building_Permits___Current.csv')\n",
    "building_permit = building_permit_raw[['Application/Permit Number','Permit Type','Status','Category','Expiration Date','Location']]"
   ]
  },
  {
   "cell_type": "code",
   "execution_count": null,
   "metadata": {
    "collapsed": true,
    "scrolled": true
   },
   "outputs": [],
   "source": [
    "#select building that are under construction and have permit issued or finaled\n",
    "building_permit = building_permit[building_permit['Permit Type'] == 'Construction']\n",
    "bp_finaled = building_permit[building_permit['Status'] == 'Permit Finaled'] \n",
    "bp_issued = building_permit[building_permit['Status'] == 'Permit Issued']\n",
    "bp = pd.concat([bp_finaled,bp_issued])"
   ]
  },
  {
   "cell_type": "code",
   "execution_count": null,
   "metadata": {},
   "outputs": [],
   "source": [
    "#check NaN in dataframe\n",
    "num_nan = bp.isnull().sum().sum()\n",
    "#The number of NaN in dataframe is 44, which is smaller than 0.5% in the dataframe \n",
    "#So we can directly delete the row containing NaN\n",
    "bp.dropna(inplace = True)\n",
    "bp.reset_index(drop=True,inplace = True)\n",
    "bp.head(10)"
   ]
  },
  {
   "cell_type": "code",
   "execution_count": null,
   "metadata": {
    "collapsed": true
   },
   "outputs": [],
   "source": [
    "#bp92\n",
    "start = time.time()\n",
    "\n",
    "zipcode_list_92 = []\n",
    "year_list_92 = []\n",
    "month_list_92 = []\n",
    "for i in range(len(bp_92)):\n",
    "    if '(' in bp_92['Location'][8500 + i]:\n",
    "        lat_lon = bp_92['Location'][8500 + i].split('(')[-1].split(')')[0]\n",
    "        geolocator = Nominatim(timeout=10)\n",
    "        location = geolocator.reverse(lat_lon)\n",
    "        zipcode = location.address.split(',')[-2].split()[0]\n",
    "        zipcode_list_92.append(zipcode)\n",
    "    else:\n",
    "        address = bp_92['Location'][8500 + i].split('(')[-1].split(')')[0]\n",
    "        geolocator = Nominatim(timeout=10)\n",
    "        location = geolocator.geocode(address)\n",
    "        zipcode = location.address.split(',')[-2].split()[0]\n",
    "        zipcode_list_92.append(zipcode)\n",
    "    \n",
    "    year = bp_92['Expiration Date'][8500 + i].split('/')[-1]\n",
    "    month = bp_92['Expiration Date'][8500 + i].split('/')[0]\n",
    "    year_list_92.append(year)\n",
    "    month_list_92.append(month)\n",
    "\n",
    "bp_92['Zipcode'] = zipcode_list_92\n",
    "bp_92['Expected Construct Year'] = year_list_92\n",
    "bp_92['Expected Construct Month'] = month_list_92\n",
    "    \n",
    "bp_92.to_csv('bp_92.csv',index = False)\n",
    "    \n",
    "end = time.time()\n",
    "run_time = end - start\n",
    "\n",
    "print(run_time)"
   ]
  },
  {
   "cell_type": "code",
   "execution_count": null,
   "metadata": {},
   "outputs": [],
   "source": [
    "#Generate zip code from latitude, longitude and address\n",
    "start = time.time()\n",
    "\n",
    "zipcode_list = []\n",
    "year_list = []\n",
    "month_list = []\n",
    "for i in range(len(bp)):\n",
    "    if '(' in bp['Location'][i]:\n",
    "        lat_lon = bp['Location'][i].split('(')[-1].split(')')[0]\n",
    "        geolocator = Nominatim(timeout=10)\n",
    "        location = geolocator.reverse(lat_lon)\n",
    "        zipcode = location.address.split(',')[-2].split()[0]\n",
    "        zipcode_list.append(zipcode)\n",
    "    else:\n",
    "        address = bp['Location'][i].split('(')[-1].split(')')[0]\n",
    "        geolocator = Nominatim(timeout=10)\n",
    "        location = geolocator.geocode(address)\n",
    "        zipcode = location.address.split(',')[-2].split()[0]\n",
    "        zipcode_list.append(zipcode)\n",
    "    \n",
    "    year = bp['Expiration Date'][i].split('/')[-1]\n",
    "    month = bp['Expiration Date'][i].split('/')[0]\n",
    "    year_list.append(year)\n",
    "    month_list.append(month)\n",
    "\n",
    "bp['Zipcode'] = zipcode_list\n",
    "bp['Expected Construct Year'] = year_list\n",
    "bp['Expected Construct Month'] = month_list\n",
    "    \n",
    "bp.to_csv('bp.csv',index = False)\n",
    "    \n",
    "end = time.time()\n",
    "run_time = end - start\n",
    "\n",
    "print(run_time)"
   ]
  },
  {
   "cell_type": "code",
   "execution_count": null,
   "metadata": {
    "collapsed": true
   },
   "outputs": [],
   "source": [
    ""
   ]
  },
  {
   "cell_type": "code",
   "execution_count": null,
   "metadata": {
    "collapsed": true
   },
   "outputs": [],
   "source": [
    ""
   ]
  },
  {
   "cell_type": "code",
   "execution_count": null,
   "metadata": {
    "collapsed": true
   },
   "outputs": [],
   "source": [
    ""
   ]
  }
 ],
 "metadata": {
  "kernelspec": {
   "display_name": "Python 3",
   "language": "python",
   "name": "python3"
  },
  "language_info": {
   "codemirror_mode": {
    "name": "ipython",
    "version": 3.0
   },
   "file_extension": ".py",
   "mimetype": "text/x-python",
   "name": "python",
   "nbconvert_exporter": "python",
   "pygments_lexer": "ipython3",
   "version": "3.6.1"
  }
 },
 "nbformat": 4,
 "nbformat_minor": 0
}